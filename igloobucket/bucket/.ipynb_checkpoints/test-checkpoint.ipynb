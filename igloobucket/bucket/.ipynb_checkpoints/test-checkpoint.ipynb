{
 "cells": [
  {
   "cell_type": "code",
   "execution_count": 8,
   "metadata": {},
   "outputs": [],
   "source": [
    "import pandas as pd\n",
    "import numpy as np"
   ]
  },
  {
   "cell_type": "code",
   "execution_count": 2,
   "metadata": {},
   "outputs": [],
   "source": [
    "df = pd.read_csv('01-100007.csv')"
   ]
  },
  {
   "cell_type": "code",
   "execution_count": 25,
   "metadata": {},
   "outputs": [
    {
     "data": {
      "text/plain": [
       "array([92, 92, 93, 93, 93, 92, 92, 91, 88, 87, 87, 87])"
      ]
     },
     "execution_count": 25,
     "metadata": {},
     "output_type": "execute_result"
    }
   ],
   "source": [
    "t = df.loc[df['segment']==0,'MAP (mmHg)'][64:76]\n",
    "np.array(t)"
   ]
  },
  {
   "cell_type": "code",
   "execution_count": 26,
   "metadata": {},
   "outputs": [],
   "source": [
    "bucket = [67.28, 65.78, 67.81] \n",
    "bucket_err = [0.31, 0.3, 0.48] \n",
    "igloo = [70.33, 79.41, 71.43] \n",
    "igloo_err = [0.35, 0.37, 0.63]"
   ]
  },
  {
   "cell_type": "code",
   "execution_count": 32,
   "metadata": {},
   "outputs": [
    {
     "data": {
      "text/html": [
       "<div>\n",
       "<style scoped>\n",
       "    .dataframe tbody tr th:only-of-type {\n",
       "        vertical-align: middle;\n",
       "    }\n",
       "\n",
       "    .dataframe tbody tr th {\n",
       "        vertical-align: top;\n",
       "    }\n",
       "\n",
       "    .dataframe thead th {\n",
       "        text-align: right;\n",
       "    }\n",
       "</style>\n",
       "<table border=\"1\" class=\"dataframe\">\n",
       "  <thead>\n",
       "    <tr style=\"text-align: right;\">\n",
       "      <th></th>\n",
       "      <th>bucket_mean</th>\n",
       "      <th>bucket_stderr</th>\n",
       "      <th>igloo_mean</th>\n",
       "      <th>igloo_stderr</th>\n",
       "    </tr>\n",
       "  </thead>\n",
       "  <tbody>\n",
       "    <tr>\n",
       "      <td>0</td>\n",
       "      <td>67.28</td>\n",
       "      <td>0.31</td>\n",
       "      <td>70.33</td>\n",
       "      <td>0.35</td>\n",
       "    </tr>\n",
       "    <tr>\n",
       "      <td>1</td>\n",
       "      <td>65.78</td>\n",
       "      <td>0.30</td>\n",
       "      <td>79.41</td>\n",
       "      <td>0.37</td>\n",
       "    </tr>\n",
       "    <tr>\n",
       "      <td>2</td>\n",
       "      <td>67.81</td>\n",
       "      <td>0.48</td>\n",
       "      <td>71.43</td>\n",
       "      <td>0.63</td>\n",
       "    </tr>\n",
       "  </tbody>\n",
       "</table>\n",
       "</div>"
      ],
      "text/plain": [
       "   bucket_mean  bucket_stderr  igloo_mean  igloo_stderr\n",
       "0        67.28           0.31       70.33          0.35\n",
       "1        65.78           0.30       79.41          0.37\n",
       "2        67.81           0.48       71.43          0.63"
      ]
     },
     "execution_count": 32,
     "metadata": {},
     "output_type": "execute_result"
    }
   ],
   "source": [
    "test = {'bucket_mean':bucket,\n",
    "       'bucket_stderr':bucket_err,\n",
    "       'igloo_mean':igloo,\n",
    "       'igloo_stderr':igloo_err}\n",
    "\n",
    "pd.DataFrame(test)\n"
   ]
  },
  {
   "cell_type": "code",
   "execution_count": 28,
   "metadata": {},
   "outputs": [
    {
     "data": {
      "text/plain": [
       "{'[67.28, 65.78, 67.81]': [67.28, 65.78, 67.81],\n",
       " '[0.31, 0.3, 0.48]': [0.31, 0.3, 0.48],\n",
       " '[70.33, 79.41, 71.43]': [70.33, 79.41, 71.43],\n",
       " '[0.35, 0.37, 0.63]': [0.35, 0.37, 0.63]}"
      ]
     },
     "execution_count": 28,
     "metadata": {},
     "output_type": "execute_result"
    }
   ],
   "source": []
  },
  {
   "cell_type": "code",
   "execution_count": null,
   "metadata": {},
   "outputs": [],
   "source": []
  }
 ],
 "metadata": {
  "kernelspec": {
   "display_name": "Python 3",
   "language": "python",
   "name": "python3"
  },
  "language_info": {
   "codemirror_mode": {
    "name": "ipython",
    "version": 3
   },
   "file_extension": ".py",
   "mimetype": "text/x-python",
   "name": "python",
   "nbconvert_exporter": "python",
   "pygments_lexer": "ipython3",
   "version": "3.7.4"
  }
 },
 "nbformat": 4,
 "nbformat_minor": 2
}
